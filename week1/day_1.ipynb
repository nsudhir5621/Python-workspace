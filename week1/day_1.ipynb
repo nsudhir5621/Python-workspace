{
 "cells": [
  {
   "metadata": {},
   "cell_type": "markdown",
   "source": [
    "#### **Day 1: Python Variables, Data Types, Conditionals** - May 29, 2025\n",
    "##### **Goal**: Learn Python fundamentals for backend development\n",
    "##### **Resources**:\n",
    "##### FreeCodeCamp: https://www.youtube.com/watch?v=rfscVS0vtbw&t=0s (0:00-0:30)\n",
    "##### HackerRank: https://www.hackerrank.com/domains/python\n",
    "##### Python Docs: https://docs.python.org/3/tutorial/errors.html"
   ],
   "id": "b0b360d1d706d3be"
  },
  {
   "metadata": {},
   "cell_type": "markdown",
   "source": [
    "#### --- **Variables** ---\n",
    "##### **Definition**: Named storage for data (e.g., x = 5)\n",
    "##### **Key Points**:\n",
    "##### **Names**: Use clear names (e.g., user_age vs x)\n",
    "##### **Assignment**: = assigns values\n",
    "##### **Notes**: Like game scores (store data for later use)"
   ],
   "id": "a37811c67b5e232c"
  },
  {
   "metadata": {},
   "cell_type": "markdown",
   "source": [
    "#### --- **Data Types** ---\n",
    "##### **Definition**: Types of data Python handles\n",
    "##### **Main Types**:\n",
    "##### **int**: Whole numbers (e.g., 5)\n",
    "##### **float**: Decimals (e.g., 3.14)\n",
    "##### **str**: Text (e.g., \"hello\")\n",
    "##### **bool**: True/False\n",
    "##### **Key Points**:\n",
    "##### **Check type**: type(5) → <class 'int'>\n",
    "##### **Convert**: int(\"5\"), str(5)\n",
    "##### **Notes**: Critical for backend (e.g., API input validation)"
   ],
   "id": "ed743d50431baf21"
  },
  {
   "metadata": {},
   "cell_type": "markdown",
   "source": [
    "#### --- **Conditionals** ---\n",
    "##### **Definition**: Control flow with if, elif, else\n",
    "##### **Key Points**:\n",
    "##### **Syntax**: if condition: (indent 4 spaces)\n",
    "##### **Operators**: >, <, ==, !=\n",
    "##### **Notes**: Like game decisions (e.g., if health > 0, keep playing)"
   ],
   "id": "1a45bc4bf0427455"
  },
  {
   "metadata": {},
   "cell_type": "markdown",
   "source": [
    "#### --- **Day 1 Summary** ---\n",
    "##### **Date**: May 29, 2025\n",
    "##### **Learned**: Variables, data types, conditionals via FreeCodeCamp (0:00-0:30)\n",
    "##### **Coded**: 3 HackerRank problems (Say Hello, World!, Python If-Else, Arithmetic Operators)\n",
    "##### **Challenges**: Syntax errors (missing colons), If-Else logic\n",
    "##### **Notes**: Feels like solving logic puzzles, preps for API logic"
   ],
   "id": "a5399dfda94fa877"
  }
 ],
 "metadata": {
  "kernelspec": {
   "display_name": "Python 3",
   "language": "python",
   "name": "python3"
  },
  "language_info": {
   "codemirror_mode": {
    "name": "ipython",
    "version": 2
   },
   "file_extension": ".py",
   "mimetype": "text/x-python",
   "name": "python",
   "nbconvert_exporter": "python",
   "pygments_lexer": "ipython2",
   "version": "2.7.6"
  }
 },
 "nbformat": 4,
 "nbformat_minor": 5
}
