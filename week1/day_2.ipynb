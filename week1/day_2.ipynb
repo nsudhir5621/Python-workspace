{
 "cells": [
  {
   "metadata": {},
   "cell_type": "markdown",
   "source": [
    "#### **Day 2: Python Loops & Lists** - May 30, 2025\n",
    "##### **Goal**: Master loops (for, while) and lists for backend data handling\n",
    "##### **Resources**:\n",
    "##### - FreeCodeCamp: https://www.youtube.com/watch?v=rfscVS0vtbw&t=1800s (0:30-1:00)\n",
    "##### - HackerRank: https://www.hackerrank.com/domains/python\n",
    "##### - Real Python: https://realpython.com/python-for-loop/"
   ],
   "id": "d43b937ec0bcb005"
  },
  {
   "metadata": {},
   "cell_type": "markdown",
   "source": [
    "#### --- **Loops** ---\n",
    "##### **Definition**: Repeat code (e.g., for i in range(5):)\n",
    "##### **Types**:\n",
    "##### - **for**: Iterates over sequence (e.g., range(5) -> 0,1,2,3,4)\n",
    "##### - **while**: Runs until condition false (e.g., x < 5)\n",
    "##### *Notes*: Like game loops (repeat until lives = 0)\n",
    "##### **Key Points**:\n",
    "##### - **range(start, stop)**: Excludes stop (e.g., range(1, 5) -> 1,2,3,4)\n",
    "##### - while needs increment (x += 1) to avoid infinite loops"
   ],
   "id": "d93125e40e1ae66e"
  },
  {
   "metadata": {},
   "cell_type": "markdown",
   "source": [
    "#### --- **Lists** ---\n",
    "##### **Definition**: Ordered collection (e.g., [1, 2, 3])\n",
    "##### **Key Points**:\n",
    "##### - **Indexing**: list[0] (starts at 0)\n",
    "##### - **Methods**: append(), pop(), len(), insert()\n",
    "##### - **Slicing**: list[1:3] (subset)\n",
    "##### *Notes*: Like game inventories (store items)"
   ],
   "id": "d13aa591796f4a79"
  },
  {
   "metadata": {},
   "cell_type": "markdown",
   "source": [
    "#### --- **Day 2 Summary** ---\n",
    "##### **Date**: May 30, 2025\n",
    "##### **Learned**: Loops (for, while) and lists (indexing, append, pop) via FreeCodeCamp (0:30-1:00)\n",
    "##### **Coded**: 4 HackerRank problems (Loops, List Comprehensions, Lists, one more)\n",
    "##### **Challenges**: List Comprehensions (nested loops)\n",
    "##### **Notes**: Loops are like game iterations, lists like inventories\n",
    "##### **Next Steps**: Review day2.py, learn functions on Day 3"
   ],
   "id": "36989553dbe8faa1"
  }
 ],
 "metadata": {
  "kernelspec": {
   "display_name": "Python 3",
   "language": "python",
   "name": "python3"
  },
  "language_info": {
   "codemirror_mode": {
    "name": "ipython",
    "version": 2
   },
   "file_extension": ".py",
   "mimetype": "text/x-python",
   "name": "python",
   "nbconvert_exporter": "python",
   "pygments_lexer": "ipython2",
   "version": "2.7.6"
  }
 },
 "nbformat": 4,
 "nbformat_minor": 5
}
