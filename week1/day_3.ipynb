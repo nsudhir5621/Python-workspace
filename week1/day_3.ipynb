{
 "cells": [
  {
   "metadata": {},
   "cell_type": "markdown",
   "source": [
    "#### **Day 3: Python Functions & Dictionaries** - May 31, 2025\n",
    "##### **Goal**: Master functions and dictionaries for backend logic\n",
    "##### **Resources**:\n",
    "##### - FreeCodeCamp: https://www.youtube.com/watch?v=rfscVS0vtbw&t=3600s (1:00-1:30)\n",
    "##### - HackerRank: https://www.hackerrank.com/domains/python\n",
    "##### - Real Python: https://realpython.com/defining-your-own-python-function/"
   ],
   "id": "ee87834cc131e235"
  },
  {
   "metadata": {},
   "cell_type": "markdown",
   "source": [
    "#### --- **Functions** ---\n",
    "##### **Definition**: Reusable code block (e.g., def my_func():)\n",
    "##### **Key Points**:\n",
    "##### - **Syntax**: def name(args):, return value\n",
    "##### - **Arguments**: Inputs to function (e.g., x, y)\n",
    "##### - **Return**: Outputs result (e.g., return x + y)\n",
    "##### *Notes*: Like game mechanics (e.g., reusable attack function)"
   ],
   "id": "3a36c59a34537bc1"
  },
  {
   "metadata": {},
   "cell_type": "markdown",
   "source": [
    "#### --- **Dictionaries** ---\n",
    "##### **Definition**: Key-value pairs (e.g., {\"name\": \"Alex\", \"age\": 25})\n",
    "##### **Key Points**:\n",
    "##### - **Access**: dict[\"key\"] (e.g., user[\"name\"])\n",
    "##### - **Methods**: get(), keys(), values(), update()\n",
    "##### *Notes*: Like game player profiles (store attributes)"
   ],
   "id": "16f78c5b82cb589e"
  },
  {
   "metadata": {},
   "cell_type": "markdown",
   "source": [
    "#### --- **Day 3 Summary** ---\n",
    "##### **Date**: May 31, 2025\n",
    "##### **Learned**: Functions (def, return) and dictionaries (key-value, get) via FreeCodeCamp (1:00-1:30)\n",
    "##### **Coded**: 4 HackerRank problems (Write a Function, Nested Lists, Finding the Percentage, one more)\n",
    "##### **Challenges**: Nested Lists sorting, fixed by testing small inputs\n",
    "##### **Notes**: Functions are like game mechanics, dictionaries like player profiles\n",
    "##### **Next Steps**: learn sets/tuples on Day 4"
   ],
   "id": "153b87f41353a0f6"
  }
 ],
 "metadata": {
  "kernelspec": {
   "display_name": "Python 3",
   "language": "python",
   "name": "python3"
  },
  "language_info": {
   "codemirror_mode": {
    "name": "ipython",
    "version": 2
   },
   "file_extension": ".py",
   "mimetype": "text/x-python",
   "name": "python",
   "nbconvert_exporter": "python",
   "pygments_lexer": "ipython2",
   "version": "2.7.6"
  }
 },
 "nbformat": 4,
 "nbformat_minor": 5
}
