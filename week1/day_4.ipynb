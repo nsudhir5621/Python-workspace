{
 "cells": [
  {
   "metadata": {},
   "cell_type": "markdown",
   "source": [
    "####  **Day 4: Python Sets & Tuples** - June 1, 2025\n",
    "##### **Goal**: Master sets and tuples for efficient backend data handling\n",
    "##### **Resources**:\n",
    "##### - FreeCodeCamp: https://www.youtube.com/watch?v=rfscVS0vtbw&t=5400s (1:30-2:00)\n",
    "##### - HackerRank: https://www.hackerrank.com/domains/python\n",
    "##### - Real Python: https://realpython.com/python-sets/"
   ],
   "id": "c6427a070d90961b"
  },
  {
   "metadata": {},
   "cell_type": "markdown",
   "source": [
    "#### --- **Sets** ---\n",
    "##### **Definition**: Unordered collection of unique items (e.g., {1, 2, 3})\n",
    "##### **Key Points**:\n",
    "##### - **Unique**: No duplicates (e.g., {1, 1} -> {1})\n",
    "##### - **Operations**: union(), intersection(), difference()\n",
    "##### - **Methods**: add(), remove(), discard()\n",
    "##### *Notes*: Like game leaderboards (unique player IDs)"
   ],
   "id": "93016f5d24ac0361"
  },
  {
   "metadata": {},
   "cell_type": "markdown",
   "source": [
    "#### --- **Tuples** ---\n",
    "##### **Definition**: Immutable ordered collection (e.g., (1, 2, 3))\n",
    "##### **Key Points**:\n",
    "##### - **Immutable**: Cannot change after creation\n",
    "##### - **Access**: tuple[0] (like lists)\n",
    "##### - **Use**: Store fixed data (e.g., coordinates)\n",
    "##### *Notes*: Like game constants (e.g., fixed screen size)"
   ],
   "id": "6969f8f05d76b39a"
  },
  {
   "metadata": {},
   "cell_type": "markdown",
   "source": [
    "#### --- **Day 4 Summary** ---\n",
    "##### **Date**: June 1, 2025\n",
    "##### **Learned**: Sets (unique items, operations) and tuples (immutable, access) via FreeCodeCamp (1:30-2:00)\n",
    "##### **Coded**: 4 HackerRank problems (Introduction to Sets, Tuples, Set Mutations, one more)\n",
    "##### **Challenges**: Set Mutations logic, fixed by testing small inputs\n",
    "##### **Notes**: Sets are like leaderboards, tuples like game constants\n",
    "##### **Next Steps**: learn file I/O on Day 5"
   ],
   "id": "e41e804e19bc18f3"
  },
  {
   "metadata": {},
   "cell_type": "code",
   "outputs": [],
   "execution_count": null,
   "source": "",
   "id": "3f957c8071e81dde"
  }
 ],
 "metadata": {
  "kernelspec": {
   "display_name": "Python 3",
   "language": "python",
   "name": "python3"
  },
  "language_info": {
   "codemirror_mode": {
    "name": "ipython",
    "version": 2
   },
   "file_extension": ".py",
   "mimetype": "text/x-python",
   "name": "python",
   "nbconvert_exporter": "python",
   "pygments_lexer": "ipython2",
   "version": "2.7.6"
  }
 },
 "nbformat": 4,
 "nbformat_minor": 5
}
