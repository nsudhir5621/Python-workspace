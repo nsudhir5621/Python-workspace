{
 "cells": [
  {
   "metadata": {},
   "cell_type": "markdown",
   "source": [
    "#### **Day 5: Python File I/O & Error Handling** - June 2, 2025\n",
    "##### **Goal**: Master file I/O and error handling for robust backend apps\n",
    "##### **Resources**:\n",
    "##### - FreeCodeCamp: https://www.youtube.com/watch?v=rfscVS0vtbw&t=7200s (2:00-2:30)\n",
    "##### - HackerRank: https://www.hackerrank.com/domains/python\n",
    "##### - Real Python: https://realpython.com/read-write-files-python/"
   ],
   "id": "47fc9835fa506546"
  },
  {
   "metadata": {},
   "cell_type": "markdown",
   "source": [
    "#### --- **File I/O** ---\n",
    "##### **Definition**: Reading/writing data to files (e.g., open('file.txt', 'r'))\n",
    "##### **Key Points**:\n",
    "##### - **Modes**: 'r' (read), 'w' (write), 'a' (append)\n",
    "##### - **Syntax**: with open('file.txt') as f: (auto-closes file)\n",
    "##### - **Methods**: read(), write(), readline()\n",
    "##### *Notes*: Like game save files (store player progress)"
   ],
   "id": "c4ca87f93fe3dfce"
  },
  {
   "metadata": {},
   "cell_type": "markdown",
   "source": [
    "#### --- **Error Handling** ---\n",
    "##### **Definition**: Manage exceptions (e.g., try-except)\n",
    "##### **Key Points**:\n",
    "##### - **Syntax**: try: code, except Exception: handle\n",
    "##### - **Common Exceptions**: ValueError, FileNotFoundError\n",
    "##### - **Finally**: Always runs (e.g., close file)\n",
    "##### *Notes*: Like debugging game crashes (handle errors gracefully)"
   ],
   "id": "fe77e7464dd61800"
  },
  {
   "metadata": {},
   "cell_type": "markdown",
   "source": [
    "#### --- **Day 5 Summary** ---\n",
    "##### **Date**: June 2, 2025\n",
    "##### **Learned**: File I/O (read, write, append) and error handling (try-except) via FreeCodeCamp (2:00-2:30)\n",
    "##### **Coded**: 4 HackerRank problems (Input and Output, Exceptions, Incorrect Regex, one more)\n",
    "##### **Challenges**: Exception specificity, fixed by catching specific errors\n",
    "##### **Notes**: File I/O like game saves, error handling like crash fixes\n",
    "##### *Next Steps*: learn modules on Day 6"
   ],
   "id": "46e95660c4162c37"
  }
 ],
 "metadata": {
  "kernelspec": {
   "display_name": "Python 3",
   "language": "python",
   "name": "python3"
  },
  "language_info": {
   "codemirror_mode": {
    "name": "ipython",
    "version": 2
   },
   "file_extension": ".py",
   "mimetype": "text/x-python",
   "name": "python",
   "nbconvert_exporter": "python",
   "pygments_lexer": "ipython2",
   "version": "2.7.6"
  }
 },
 "nbformat": 4,
 "nbformat_minor": 5
}
